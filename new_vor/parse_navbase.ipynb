{
 "cells": [
  {
   "cell_type": "code",
   "execution_count": 55,
   "metadata": {},
   "outputs": [],
   "source": [
    "import pandas as pd\n",
    "import numpy as np\n",
    "import simplekml\n"
   ]
  },
  {
   "cell_type": "code",
   "execution_count": null,
   "metadata": {},
   "outputs": [],
   "source": [
    "# Open NAV_BASE file\n",
    "nav_base = pd.read_csv('FAA_data_20250123/NAV_BASE.csv')\n",
    "#Filter dataframe by NAV_TYPE\n",
    "vor = nav_base[nav_base['NAV_TYPE'].isin(['VOR', 'TACAN', 'VOR/DME', 'VORTAC'])]\n",
    "\n",
    "#Create Low Alt KML\n",
    "low_kml = simplekml.Kml()\n",
    "low_kml.document.name = 'Low Altitude VOR Stations'\n",
    "\n",
    "#Create High Alt KML\n",
    "high_kml = simplekml.Kml()\n",
    "high_kml.document.name = 'High Altitude VOR Stations'"
   ]
  },
  {
   "cell_type": "code",
   "execution_count": 67,
   "metadata": {},
   "outputs": [],
   "source": [
    "alt_dict = {'low':['L','VL'], 'high':['H','VH']}"
   ]
  },
  {
   "cell_type": "code",
   "execution_count": 58,
   "metadata": {},
   "outputs": [],
   "source": [
    "def dms_to_decimal(degrees, minutes, seconds, direction):\n",
    "    decimal = degrees + minutes / 60 + seconds / 3600\n",
    "    if direction in ['S', 'W']:\n",
    "        decimal = -decimal\n",
    "    return decimal"
   ]
  },
  {
   "cell_type": "code",
   "execution_count": 93,
   "metadata": {},
   "outputs": [],
   "source": [
    "def write_kml(kml,height):\n",
    "    blue_style = simplekml.Style()\n",
    "    blue_style.iconstyle.color = simplekml.Color.blue\n",
    "    blue_style.iconstyle.scale = 1.0\n",
    "    blue_style.iconstyle.icon.href = 'http://maps.google.com/mapfiles/kml/paddle/blu-circle.png'\n",
    "    # Add the style to the KML document\n",
    "    \n",
    "    #Add yellow style\n",
    "    yellow_style = simplekml.Style()\n",
    "    yellow_style.iconstyle.color = simplekml.Color.yellow\n",
    "    yellow_style.iconstyle.scale = 1.0\n",
    "    yellow_style.iconstyle.icon.href = 'http://maps.google.com/mapfiles/kml/paddle/ylw-circle.png'\n",
    "    \n",
    "    df = vor[vor['ALT_CODE'].isin(alt_dict[height])]\n",
    "    for index, row in df.iterrows():\n",
    "        lat = dms_to_decimal(row['LAT_DEG'], row['LAT_MIN'], row['LAT_SEC'], row['LAT_HEMIS'])\n",
    "        lon = dms_to_decimal(row['LONG_DEG'], row['LONG_MIN'], row['LONG_SEC'], row['LONG_HEMIS'])\n",
    "        mag_deviation = f\"{row['MAG_VARN_HEMIS']}{int(row['MAG_VARN'])}°\"\n",
    "        description = (\n",
    "            f\"Altitude Code: {row['ALT_CODE']}<br>\"\n",
    "            f\"Magnetic Deviation: {mag_deviation}<br>\"\n",
    "            f\"City: {row['CITY']}, {row['STATE_CODE']}<br>\"\n",
    "            f\"Frequency: {row['FREQ']} MHz\"\n",
    "        )\n",
    "        pnt = kml.newpoint(name=row['NAV_ID'],\n",
    "                        coords=[(lon, lat)],)\n",
    "        pnt.description = description\n",
    "        if height == 'low':\n",
    "            pnt.style = yellow_style\n",
    "        else:\n",
    "            pnt.style = blue_style"
   ]
  },
  {
   "cell_type": "code",
   "execution_count": 96,
   "metadata": {},
   "outputs": [],
   "source": [
    "write_kml(high_kml,'high')\n",
    "high_kml.save('high_altitude_vor.kml')\n",
    "write_kml(low_kml,'low')\n",
    "low_kml.save('low_altitude_vor.kml')"
   ]
  },
  {
   "cell_type": "markdown",
   "metadata": {},
   "source": []
  }
 ],
 "metadata": {
  "kernelspec": {
   "display_name": "Python 3",
   "language": "python",
   "name": "python3"
  },
  "language_info": {
   "codemirror_mode": {
    "name": "ipython",
    "version": 3
   },
   "file_extension": ".py",
   "mimetype": "text/x-python",
   "name": "python",
   "nbconvert_exporter": "python",
   "pygments_lexer": "ipython3",
   "version": "3.13.0"
  }
 },
 "nbformat": 4,
 "nbformat_minor": 2
}
